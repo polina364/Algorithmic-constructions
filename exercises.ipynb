{
  "nbformat": 4,
  "nbformat_minor": 0,
  "metadata": {
    "colab": {
      "provenance": [],
      "name": "exercises.ipynb",
      "authorship_tag": "ABX9TyNsqY9vRGazEy98Qptm9UEc",
      "include_colab_link": true
    },
    "kernelspec": {
      "name": "python3",
      "display_name": "Python 3"
    },
    "language_info": {
      "name": "python"
    }
  },
  "cells": [
    {
      "cell_type": "markdown",
      "metadata": {
        "id": "view-in-github",
        "colab_type": "text"
      },
      "source": [
        "<a href=\"https://colab.research.google.com/github/polina364/Algorithmic-constructions/blob/main/exercises.ipynb\" target=\"_parent\"><img src=\"https://colab.research.google.com/assets/colab-badge.svg\" alt=\"Open In Colab\"/></a>"
      ]
    },
    {
      "cell_type": "markdown",
      "source": [
        "1.\tРассчитайте процентную ставку для вклада в зависимости от суммы и срока вклада"
      ],
      "metadata": {
        "id": "bXnBVGABzGKN"
      }
    },
    {
      "cell_type": "code",
      "source": [
        "amount = int(input(\"Введите сумму вклада: \"))\n",
        "term = int(input(\"Введите срок вклада в месяцах: \"))\n",
        "\n",
        "if amount < 10000 and term < 12:\n",
        "    rate = 0.05\n",
        "elif amount < 10000 and term >= 12:\n",
        "    rate = 0.06\n",
        "elif amount >= 10000 and term < 12:\n",
        "    rate = 0.07\n",
        "else:\n",
        "    rate = 0.08\n",
        "\n",
        "interest = amount * rate * term / 12\n",
        "print(f\"Процентная ставка: {rate}\")\n",
        "print(f\"Доход от вклада: {interest}\")"
      ],
      "metadata": {
        "colab": {
          "base_uri": "https://localhost:8080/"
        },
        "id": "y9KAv3KnyDWZ",
        "outputId": "733b986e-b9fe-4325-82ce-3f20cfddbc7b"
      },
      "execution_count": null,
      "outputs": [
        {
          "output_type": "stream",
          "name": "stdout",
          "text": [
            "Введите сумму вклада: 500000\n",
            "Введите срок вклада в месяцах: 4\n",
            "Процентная ставка: 0.07\n",
            "Доход от вклада: 11666.666666666666\n"
          ]
        }
      ]
    },
    {
      "cell_type": "markdown",
      "source": [
        "2.\tПроверка наличия денежных средств на счете."
      ],
      "metadata": {
        "id": "8f4LVXm9zHV0"
      }
    },
    {
      "cell_type": "code",
      "source": [
        "balance = float(input(\"Введите баланс счета: \"))\n",
        "withdrawal = float(input(\"Введите сумму, которую вы хотите снять: \"))\n",
        "\n",
        "if balance >= withdrawal:\n",
        "    balance -= withdrawal\n",
        "    print(f\"Снятие {withdrawal:.2f} руб. со счета. Остаток: {balance:.2f} руб.\")\n",
        "else:\n",
        "    print(\"Недостаточно средств на счете\")"
      ],
      "metadata": {
        "colab": {
          "base_uri": "https://localhost:8080/"
        },
        "id": "VwJMOW2UzJ4L",
        "outputId": "5b8c8919-03c4-4342-975e-9e878be11e71"
      },
      "execution_count": null,
      "outputs": [
        {
          "output_type": "stream",
          "name": "stdout",
          "text": [
            "Введите баланс счета: 70000\n",
            "Введите сумму, которую вы хотите снять: 3000\n",
            "Снятие 3000.00 руб. со счета. Остаток: 67000.00 руб.\n"
          ]
        }
      ]
    },
    {
      "cell_type": "markdown",
      "source": [
        "3.\tРасчет процентной ставки для вклада или кредита."
      ],
      "metadata": {
        "id": "iSyIiVofzWrM"
      }
    },
    {
      "cell_type": "code",
      "source": [
        "def calculate_interest_rate(amount, term):\n",
        "    if term < 1:\n",
        "        return 0  # Если срок меньше 1 года, процентная ставка 0%\n",
        "    elif 1 <= term < 4:\n",
        "        return 6  # Если срок от 1 до 3 лет, процентная ставка 5%\n",
        "    elif 4 <= term < 7:\n",
        "        return 8  # Если срок от 3 до 5 лет, процентная ставка 7%\n",
        "    else:\n",
        "        return 15  # Если срок 5 лет и более, процентная ставка 10%\n",
        "term = int(input(\"срок вклада:\"))\n",
        "interest_rate = calculate_interest_rate(amount, term)\n",
        "print(f\"Процентная ставка для вклада: {interest_rate}%\")"
      ],
      "metadata": {
        "id": "vCrIhzBqECok"
      },
      "execution_count": null,
      "outputs": []
    },
    {
      "cell_type": "markdown",
      "source": [
        "4.\tРасчет ежемесячного платежа по кредиту."
      ],
      "metadata": {
        "id": "-ki07O-o3BPV"
      }
    },
    {
      "cell_type": "code",
      "source": [
        "def calculate_monthly_payment(principal, annual_interest_rate, years):\n",
        "    monthly_interest_rate = annual_interest_rate / 12 / 100\n",
        "    months = years * 12\n",
        "\n",
        "    if monthly_interest_rate == 0:\n",
        "        monthly_payment = principal / months\n",
        "    else:\n",
        "        monthly_payment = principal * (monthly_interest_rate * (1 + monthly_interest_rate) ** months) / ((1 + monthly_interest_rate) ** months - 1)\n",
        "\n",
        "    return monthly_payment\n",
        "\n",
        "def main():\n",
        "    try:\n",
        "        principal = float(input(\"Введите сумму кредита: \"))\n",
        "        annual_interest_rate = float(input(\"Введите годовую процентную ставку (%): \"))\n",
        "        years = int(input(\"Введите срок кредита (в годах): \"))\n",
        "\n",
        "        if principal <= 0 or annual_interest_rate < 0 or years <= 0:\n",
        "            print(\"Ошибка: Сумма кредита, процентная ставка и срок кредита должны быть положительными числами.\")\n",
        "        else:\n",
        "            monthly_payment = calculate_monthly_payment(principal, annual_interest_rate, years)\n",
        "            print(f\"Ежемесячный платеж составит: {monthly_payment:.2f} руб.\")\n",
        "\n",
        "    except ValueError:\n",
        "        print(\"Ошибка: Введите числовые значения для суммы кредита, процентной ставки и срока кредита.\")\n",
        "\n",
        "if __name__ == \"__main__\":\n",
        "    main()\n"
      ],
      "metadata": {
        "id": "mMT0LsF13iG4",
        "colab": {
          "base_uri": "https://localhost:8080/"
        },
        "outputId": "3c5545d4-2bad-4103-c998-83c075fef24f"
      },
      "execution_count": null,
      "outputs": [
        {
          "output_type": "stream",
          "name": "stdout",
          "text": [
            "Введите сумму кредита: 60000\n",
            "Введите годовую процентную ставку (%): 4\n",
            "Введите срок кредита (в годах): 2\n",
            "Ежемесячный платеж составит: 2605.50 руб.\n"
          ]
        }
      ]
    },
    {
      "cell_type": "markdown",
      "source": [
        "5.\tРасчет доходности инвестиций."
      ],
      "metadata": {
        "id": "BqLTRbDx3B-v"
      }
    },
    {
      "cell_type": "code",
      "source": [
        "initial_investment = float(input(\"Введите начальную сумму инвестиций: \"))\n",
        "interest_rate = float(input(\"Введите годовую процентную ставку (в %): \"))\n",
        "investment_period = int(input(\"Введите срок инвестирования (в годах): \"))\n",
        "interest_type = input(\"Выберите тип начисления процентов (простой/сложный): \").lower()\n",
        "\n",
        "if interest_type == \"простой\":\n",
        "    final_amount = initial_investment * (1 + (interest_rate / 100) * investment_period)\n",
        "elif interest_type == \"сложный\":\n",
        "    final_amount = initial_investment * (1 + (interest_rate / 100)) ** investment_period\n",
        "else:\n",
        "    print(\"Неверный тип начисления процентов. Пожалуйста, выберите 'простой' или 'сложный'.\")\n",
        "    exit()\n",
        "print(f\"Итоговая сумма после {investment_period} лет: {final_amount:.2f}\")\n"
      ],
      "metadata": {
        "id": "IMuYHFm-3ibg",
        "colab": {
          "base_uri": "https://localhost:8080/"
        },
        "outputId": "1390adca-d711-4d22-e71f-cef5f4c91c97"
      },
      "execution_count": null,
      "outputs": [
        {
          "output_type": "stream",
          "name": "stdout",
          "text": [
            "Введите начальную сумму инвестиций: 12000\n",
            "Введите годовую процентную ставку (в %): 17\n",
            "Введите срок инвестирования (в годах): 2\n",
            "Выберите тип начисления процентов (простой/сложный): простой\n",
            "Итоговая сумма после 2 лет: 16080.00\n"
          ]
        }
      ]
    },
    {
      "cell_type": "markdown",
      "source": [
        "**# Циклы - for и while в решении финансовых задач на Python 3.Текст, выделенный полужирным шрифтом**"
      ],
      "metadata": {
        "id": "iDDXwluc3E7X"
      }
    },
    {
      "cell_type": "markdown",
      "source": [
        "1.\tРассчитать проценты на сумму вклада. Решение с помощью цикла for."
      ],
      "metadata": {
        "id": "AeKN6cvi3s-g"
      }
    },
    {
      "cell_type": "code",
      "source": [
        "deposit = 10000\n",
        "interest_rate = 0.05\n",
        "years = 5\n",
        "for i in range(years):\n",
        "    deposit = deposit * (1 + interest_rate)\n",
        "print(deposit)"
      ],
      "metadata": {
        "colab": {
          "base_uri": "https://localhost:8080/"
        },
        "id": "FaGyQayH4DvI",
        "outputId": "72cfa5c6-0ff8-43a2-b123-cfcb7f343cf1"
      },
      "execution_count": null,
      "outputs": [
        {
          "output_type": "stream",
          "name": "stdout",
          "text": [
            "12762.815625000001\n"
          ]
        }
      ]
    },
    {
      "cell_type": "markdown",
      "source": [
        "2.\tРассчитать проценты на сумму вклада. Решение с помощью цикла while."
      ],
      "metadata": {
        "id": "HEMaABpx34NI"
      }
    },
    {
      "cell_type": "code",
      "source": [
        "deposit = 10000\n",
        "interest_rate = 0.05\n",
        "years = 5\n",
        "i = 0\n",
        "while i < years:\n",
        "    deposit = deposit * (1 + interest_rate)\n",
        "    i += 1\n",
        "print(deposit)"
      ],
      "metadata": {
        "colab": {
          "base_uri": "https://localhost:8080/"
        },
        "id": "f5JKFOS74Elo",
        "outputId": "3644d01c-089f-4bdd-f0fa-f944026bbded"
      },
      "execution_count": null,
      "outputs": [
        {
          "output_type": "stream",
          "name": "stdout",
          "text": [
            "12762.815625000001\n"
          ]
        }
      ]
    },
    {
      "cell_type": "markdown",
      "source": [
        "3.\tРассчитать сумму выплат по кредиту. Решение с помощью цикла for."
      ],
      "metadata": {
        "id": "fPC-bk1X37lY"
      }
    },
    {
      "cell_type": "code",
      "source": [
        "loan_amount = 100000\n",
        "interest_rate = 0.1\n",
        "years = 5\n",
        "monthly_payment = loan_amount / (years * 12)\n",
        "total_payments = 0\n",
        "for i in range(years * 12):\n",
        "    total_payments += monthly_payment\n",
        "    loan_amount = loan_amount * (1 + interest_rate / 12) - monthly_payment\n",
        "print(total_payments)"
      ],
      "metadata": {
        "colab": {
          "base_uri": "https://localhost:8080/"
        },
        "id": "32U31TM64E7w",
        "outputId": "c2ccf713-b231-4c6f-f997-e8e0ba12e2e9"
      },
      "execution_count": null,
      "outputs": [
        {
          "output_type": "stream",
          "name": "stdout",
          "text": [
            "100000.00000000006\n"
          ]
        }
      ]
    },
    {
      "cell_type": "markdown",
      "source": [
        "4.\tРассчитать ежемесячные платежи по кредиту. Решение с помощью цикла for."
      ],
      "metadata": {
        "id": "0bcKWO6E396I"
      }
    },
    {
      "cell_type": "code",
      "source": [
        "loan_amount = 100000\n",
        "interest_rate = 0.1\n",
        "years = 5\n",
        "monthly_interest_rate = interest_rate / 12\n",
        "months = years * 12\n",
        "payment = (loan_amount * monthly_interest_rate) / (1 - (1 + monthly_interest_rate) ** (-months))\n",
        "for i in range(months):\n",
        "    loan_amount = loan_amount * (1 + monthly_interest_rate) - payment\n",
        "    print(f\"Month {i+1}: Payment = {payment:.2f}, Remaining balance = {loan_amount:.2f}\")"
      ],
      "metadata": {
        "colab": {
          "base_uri": "https://localhost:8080/"
        },
        "id": "CYIcIlCa4FjA",
        "outputId": "205acec8-a145-4288-e01c-c443adccf77f"
      },
      "execution_count": null,
      "outputs": [
        {
          "output_type": "stream",
          "name": "stdout",
          "text": [
            "Month 1: Payment = 2124.70, Remaining balance = 98708.63\n",
            "Month 2: Payment = 2124.70, Remaining balance = 97406.50\n",
            "Month 3: Payment = 2124.70, Remaining balance = 96093.51\n",
            "Month 4: Payment = 2124.70, Remaining balance = 94769.59\n",
            "Month 5: Payment = 2124.70, Remaining balance = 93434.63\n",
            "Month 6: Payment = 2124.70, Remaining balance = 92088.55\n",
            "Month 7: Payment = 2124.70, Remaining balance = 90731.25\n",
            "Month 8: Payment = 2124.70, Remaining balance = 89362.64\n",
            "Month 9: Payment = 2124.70, Remaining balance = 87982.62\n",
            "Month 10: Payment = 2124.70, Remaining balance = 86591.10\n",
            "Month 11: Payment = 2124.70, Remaining balance = 85187.99\n",
            "Month 12: Payment = 2124.70, Remaining balance = 83773.19\n",
            "Month 13: Payment = 2124.70, Remaining balance = 82346.59\n",
            "Month 14: Payment = 2124.70, Remaining balance = 80908.11\n",
            "Month 15: Payment = 2124.70, Remaining balance = 79457.64\n",
            "Month 16: Payment = 2124.70, Remaining balance = 77995.08\n",
            "Month 17: Payment = 2124.70, Remaining balance = 76520.34\n",
            "Month 18: Payment = 2124.70, Remaining balance = 75033.30\n",
            "Month 19: Payment = 2124.70, Remaining balance = 73533.88\n",
            "Month 20: Payment = 2124.70, Remaining balance = 72021.95\n",
            "Month 21: Payment = 2124.70, Remaining balance = 70497.43\n",
            "Month 22: Payment = 2124.70, Remaining balance = 68960.21\n",
            "Month 23: Payment = 2124.70, Remaining balance = 67410.17\n",
            "Month 24: Payment = 2124.70, Remaining balance = 65847.22\n",
            "Month 25: Payment = 2124.70, Remaining balance = 64271.24\n",
            "Month 26: Payment = 2124.70, Remaining balance = 62682.13\n",
            "Month 27: Payment = 2124.70, Remaining balance = 61079.77\n",
            "Month 28: Payment = 2124.70, Remaining balance = 59464.07\n",
            "Month 29: Payment = 2124.70, Remaining balance = 57834.90\n",
            "Month 30: Payment = 2124.70, Remaining balance = 56192.15\n",
            "Month 31: Payment = 2124.70, Remaining balance = 54535.71\n",
            "Month 32: Payment = 2124.70, Remaining balance = 52865.47\n",
            "Month 33: Payment = 2124.70, Remaining balance = 51181.32\n",
            "Month 34: Payment = 2124.70, Remaining balance = 49483.12\n",
            "Month 35: Payment = 2124.70, Remaining balance = 47770.78\n",
            "Month 36: Payment = 2124.70, Remaining balance = 46044.16\n",
            "Month 37: Payment = 2124.70, Remaining balance = 44303.16\n",
            "Month 38: Payment = 2124.70, Remaining balance = 42547.65\n",
            "Month 39: Payment = 2124.70, Remaining balance = 40777.51\n",
            "Month 40: Payment = 2124.70, Remaining balance = 38992.61\n",
            "Month 41: Payment = 2124.70, Remaining balance = 37192.85\n",
            "Month 42: Payment = 2124.70, Remaining balance = 35378.08\n",
            "Month 43: Payment = 2124.70, Remaining balance = 33548.20\n",
            "Month 44: Payment = 2124.70, Remaining balance = 31703.06\n",
            "Month 45: Payment = 2124.70, Remaining balance = 29842.55\n",
            "Month 46: Payment = 2124.70, Remaining balance = 27966.53\n",
            "Month 47: Payment = 2124.70, Remaining balance = 26074.88\n",
            "Month 48: Payment = 2124.70, Remaining balance = 24167.47\n",
            "Month 49: Payment = 2124.70, Remaining balance = 22244.16\n",
            "Month 50: Payment = 2124.70, Remaining balance = 20304.82\n",
            "Month 51: Payment = 2124.70, Remaining balance = 18349.33\n",
            "Month 52: Payment = 2124.70, Remaining balance = 16377.53\n",
            "Month 53: Payment = 2124.70, Remaining balance = 14389.31\n",
            "Month 54: Payment = 2124.70, Remaining balance = 12384.51\n",
            "Month 55: Payment = 2124.70, Remaining balance = 10363.01\n",
            "Month 56: Payment = 2124.70, Remaining balance = 8324.67\n",
            "Month 57: Payment = 2124.70, Remaining balance = 6269.34\n",
            "Month 58: Payment = 2124.70, Remaining balance = 4196.88\n",
            "Month 59: Payment = 2124.70, Remaining balance = 2107.14\n",
            "Month 60: Payment = 2124.70, Remaining balance = -0.00\n"
          ]
        }
      ]
    },
    {
      "cell_type": "markdown",
      "source": [
        "5.\tРассчитать ежемесячные платежи по кредиту. Решение с помощью цикла while."
      ],
      "metadata": {
        "id": "diW6Mq-74Aog"
      }
    },
    {
      "cell_type": "code",
      "source": [
        "loan_amount = 100000\n",
        "interest_rate = 0.1\n",
        "years = 5\n",
        "monthly_interest_rate = interest_rate / 12\n",
        "months = years * 12\n",
        "payment = (loan_amount * monthly_interest_rate) / (1 - (1 + monthly_interest_rate) ** (-months))\n",
        "i = 0\n",
        "while i < months:\n",
        "    loan_amount = loan_amount * (1 + monthly_interest_rate) - payment\n",
        "    print(f\"Month {i+1}: Payment = {payment:.2f}, Remaining balance = {loan_amount:.2f}\")\n",
        "    i += 1"
      ],
      "metadata": {
        "colab": {
          "base_uri": "https://localhost:8080/"
        },
        "id": "j_3UwW654F6o",
        "outputId": "3048381e-b263-442a-ee3e-60fc536af855"
      },
      "execution_count": null,
      "outputs": [
        {
          "output_type": "stream",
          "name": "stdout",
          "text": [
            "Month 1: Payment = 2124.70, Remaining balance = 98708.63\n",
            "Month 2: Payment = 2124.70, Remaining balance = 97406.50\n",
            "Month 3: Payment = 2124.70, Remaining balance = 96093.51\n",
            "Month 4: Payment = 2124.70, Remaining balance = 94769.59\n",
            "Month 5: Payment = 2124.70, Remaining balance = 93434.63\n",
            "Month 6: Payment = 2124.70, Remaining balance = 92088.55\n",
            "Month 7: Payment = 2124.70, Remaining balance = 90731.25\n",
            "Month 8: Payment = 2124.70, Remaining balance = 89362.64\n",
            "Month 9: Payment = 2124.70, Remaining balance = 87982.62\n",
            "Month 10: Payment = 2124.70, Remaining balance = 86591.10\n",
            "Month 11: Payment = 2124.70, Remaining balance = 85187.99\n",
            "Month 12: Payment = 2124.70, Remaining balance = 83773.19\n",
            "Month 13: Payment = 2124.70, Remaining balance = 82346.59\n",
            "Month 14: Payment = 2124.70, Remaining balance = 80908.11\n",
            "Month 15: Payment = 2124.70, Remaining balance = 79457.64\n",
            "Month 16: Payment = 2124.70, Remaining balance = 77995.08\n",
            "Month 17: Payment = 2124.70, Remaining balance = 76520.34\n",
            "Month 18: Payment = 2124.70, Remaining balance = 75033.30\n",
            "Month 19: Payment = 2124.70, Remaining balance = 73533.88\n",
            "Month 20: Payment = 2124.70, Remaining balance = 72021.95\n",
            "Month 21: Payment = 2124.70, Remaining balance = 70497.43\n",
            "Month 22: Payment = 2124.70, Remaining balance = 68960.21\n",
            "Month 23: Payment = 2124.70, Remaining balance = 67410.17\n",
            "Month 24: Payment = 2124.70, Remaining balance = 65847.22\n",
            "Month 25: Payment = 2124.70, Remaining balance = 64271.24\n",
            "Month 26: Payment = 2124.70, Remaining balance = 62682.13\n",
            "Month 27: Payment = 2124.70, Remaining balance = 61079.77\n",
            "Month 28: Payment = 2124.70, Remaining balance = 59464.07\n",
            "Month 29: Payment = 2124.70, Remaining balance = 57834.90\n",
            "Month 30: Payment = 2124.70, Remaining balance = 56192.15\n",
            "Month 31: Payment = 2124.70, Remaining balance = 54535.71\n",
            "Month 32: Payment = 2124.70, Remaining balance = 52865.47\n",
            "Month 33: Payment = 2124.70, Remaining balance = 51181.32\n",
            "Month 34: Payment = 2124.70, Remaining balance = 49483.12\n",
            "Month 35: Payment = 2124.70, Remaining balance = 47770.78\n",
            "Month 36: Payment = 2124.70, Remaining balance = 46044.16\n",
            "Month 37: Payment = 2124.70, Remaining balance = 44303.16\n",
            "Month 38: Payment = 2124.70, Remaining balance = 42547.65\n",
            "Month 39: Payment = 2124.70, Remaining balance = 40777.51\n",
            "Month 40: Payment = 2124.70, Remaining balance = 38992.61\n",
            "Month 41: Payment = 2124.70, Remaining balance = 37192.85\n",
            "Month 42: Payment = 2124.70, Remaining balance = 35378.08\n",
            "Month 43: Payment = 2124.70, Remaining balance = 33548.20\n",
            "Month 44: Payment = 2124.70, Remaining balance = 31703.06\n",
            "Month 45: Payment = 2124.70, Remaining balance = 29842.55\n",
            "Month 46: Payment = 2124.70, Remaining balance = 27966.53\n",
            "Month 47: Payment = 2124.70, Remaining balance = 26074.88\n",
            "Month 48: Payment = 2124.70, Remaining balance = 24167.47\n",
            "Month 49: Payment = 2124.70, Remaining balance = 22244.16\n",
            "Month 50: Payment = 2124.70, Remaining balance = 20304.82\n",
            "Month 51: Payment = 2124.70, Remaining balance = 18349.33\n",
            "Month 52: Payment = 2124.70, Remaining balance = 16377.53\n",
            "Month 53: Payment = 2124.70, Remaining balance = 14389.31\n",
            "Month 54: Payment = 2124.70, Remaining balance = 12384.51\n",
            "Month 55: Payment = 2124.70, Remaining balance = 10363.01\n",
            "Month 56: Payment = 2124.70, Remaining balance = 8324.67\n",
            "Month 57: Payment = 2124.70, Remaining balance = 6269.34\n",
            "Month 58: Payment = 2124.70, Remaining balance = 4196.88\n",
            "Month 59: Payment = 2124.70, Remaining balance = 2107.14\n",
            "Month 60: Payment = 2124.70, Remaining balance = -0.00\n"
          ]
        }
      ]
    }
  ]
}